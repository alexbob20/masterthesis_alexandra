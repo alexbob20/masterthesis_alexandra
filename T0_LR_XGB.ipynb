{
 "cells": [
  {
   "cell_type": "code",
   "execution_count": 31,
   "metadata": {},
   "outputs": [],
   "source": [
    "from sklearn.base import clone\n",
    "\n",
    "import pandas as pd\n",
    "import numpy as np\n",
    "from tqdm import tqdm\n",
    "\n",
    "from sklearn.pipeline import Pipeline\n",
    "from imblearn.pipeline import Pipeline as ImbPipeline\n",
    "\n",
    "from sklearn.linear_model import LogisticRegression, LogisticRegressionCV\n",
    "from sklearn.feature_selection import VarianceThreshold, SelectKBest, mutual_info_classif\n",
    "from sklearn.decomposition import PCA\n",
    "from sklearn.preprocessing import RobustScaler\n",
    "\n",
    "from imblearn.over_sampling import SMOTE\n",
    "from sklearn.model_selection import train_test_split, cross_validate\n",
    "from sklearn.model_selection import StratifiedKFold\n",
    "\n",
    "from sklearn.metrics import (\n",
    "    roc_auc_score, average_precision_score, balanced_accuracy_score,\n",
    "    accuracy_score, precision_score, recall_score, f1_score,\n",
    "    confusion_matrix, precision_recall_curve\n",
    ")\n",
    "\n",
    "from imblearn.pipeline import Pipeline as ImbPipeline\n",
    "from imblearn.over_sampling import SMOTE\n",
    "from imblearn import FunctionSampler\n",
    "from collections import Counter\n",
    "\n",
    "from joblib import Parallel, delayed\n"
   ]
  },
  {
   "cell_type": "code",
   "execution_count": 1,
   "metadata": {},
   "outputs": [],
   "source": [
    "import pandas as pd\n",
    "df = pd.read_csv(\"excel_files/baseline_features.csv\",na_values=[\"#NULL!\", \"NULL\", \"N/A\"], decimal=\",\")\n",
    "\n",
    "df = df.apply(pd.to_numeric, errors=\"coerce\")\n",
    "df = df[df.isnull().sum(axis=1) <= 500]"
   ]
  },
  {
   "cell_type": "code",
   "execution_count": 3,
   "metadata": {},
   "outputs": [],
   "source": [
    "###code to create binary labels using 93rd percentile.below=normal, above=clinical\n",
    "\n",
    "# Step 1: Automatically find matching YSR_93_XX and YSR_98_XX pairs\n",
    "suffixes = []\n",
    "for col in df.columns:\n",
    "    if col.startswith(\"YSR_93_\"):\n",
    "        suffix = col.replace(\"YSR_93_\", \"\")\n",
    "        if f\"YSR_98_{suffix}\" in df.columns:\n",
    "            suffixes.append(suffix)\n",
    "\n",
    "# Step 2: Create combined columns\n",
    "combined_cols = {}\n",
    "for suffix in suffixes:\n",
    "    col_93 = f'YSR_93_{suffix}'\n",
    "    col_98 = f'YSR_98_{suffix}'\n",
    "    new_col = f'YSR_93_98_{suffix}'\n",
    "    \n",
    "    combined_cols[new_col] = ((df[col_93] == 1) | (df[col_98] == 1)).astype(int)\n",
    "\n",
    "# Step 3: Insert new columns after the first 60 columns\n",
    "# Split df into two parts: first 60 and the rest\n",
    "first_part = df.iloc[:, :60].copy()\n",
    "second_part = df.iloc[:, 60:].copy()\n",
    "\n",
    "# Add new combined columns to first_part\n",
    "for col_name, col_data in combined_cols.items():\n",
    "    first_part[col_name] = col_data.values\n",
    "\n",
    "# Concatenate first_part (now including new columns) and second_part\n",
    "df = pd.concat([first_part, second_part], axis=1)\n",
    "\n",
    "###code to eliminate the doubles acoustic features which I dont know where they came from\n",
    "\n",
    "cols_to_check = df.columns[77:]\n",
    "cols_to_keep = [col for col in cols_to_check if col.startswith(\"baseline_\")]\n",
    "df = df[df.columns[:77].tolist() + cols_to_keep]"
   ]
  },
  {
   "cell_type": "code",
   "execution_count": 4,
   "metadata": {},
   "outputs": [
    {
     "name": "stdout",
     "output_type": "stream",
     "text": [
      "YSR Combined Column Summary\n"
     ]
    },
    {
     "data": {
      "text/html": [
       "<!--| quarto-html-table-processing: none -->\n",
       "<table id=\"itables_b040db94_09dd_4f21_b909_d65a819a797f\"><tbody><tr>\n",
       "    <td style=\"vertical-align:middle; text-align:left\">\n",
       "    <a href=https://mwouts.github.io/itables/><svg class=\"main-svg\" xmlns=\"http://www.w3.org/2000/svg\" xmlns:xlink=\"http://www.w3.org/1999/xlink\"\n",
       "width=\"64\" viewBox=\"0 0 500 400\" style=\"font-family: 'Droid Sans', sans-serif;\">\n",
       "    <g style=\"fill:#d9d7fc\">\n",
       "        <path d=\"M100,400H500V357H100Z\" />\n",
       "        <path d=\"M100,300H400V257H100Z\" />\n",
       "        <path d=\"M0,200H400V157H0Z\" />\n",
       "        <path d=\"M100,100H500V57H100Z\" />\n",
       "        <path d=\"M100,350H500V307H100Z\" />\n",
       "        <path d=\"M100,250H400V207H100Z\" />\n",
       "        <path d=\"M0,150H400V107H0Z\" />\n",
       "        <path d=\"M100,50H500V7H100Z\" />\n",
       "    </g>\n",
       "    <g style=\"fill:#1a1366;stroke:#1a1366;\">\n",
       "   <rect x=\"100\" y=\"7\" width=\"400\" height=\"43\">\n",
       "    <animate\n",
       "      attributeName=\"width\"\n",
       "      values=\"0;400;0\"\n",
       "      dur=\"5s\"\n",
       "      repeatCount=\"indefinite\" />\n",
       "      <animate\n",
       "      attributeName=\"x\"\n",
       "      values=\"100;100;500\"\n",
       "      dur=\"5s\"\n",
       "      repeatCount=\"indefinite\" />\n",
       "  </rect>\n",
       "        <rect x=\"0\" y=\"107\" width=\"400\" height=\"43\">\n",
       "    <animate\n",
       "      attributeName=\"width\"\n",
       "      values=\"0;400;0\"\n",
       "      dur=\"3.5s\"\n",
       "      repeatCount=\"indefinite\" />\n",
       "    <animate\n",
       "      attributeName=\"x\"\n",
       "      values=\"0;0;400\"\n",
       "      dur=\"3.5s\"\n",
       "      repeatCount=\"indefinite\" />\n",
       "  </rect>\n",
       "        <rect x=\"100\" y=\"207\" width=\"300\" height=\"43\">\n",
       "    <animate\n",
       "      attributeName=\"width\"\n",
       "      values=\"0;300;0\"\n",
       "      dur=\"3s\"\n",
       "      repeatCount=\"indefinite\" />\n",
       "    <animate\n",
       "      attributeName=\"x\"\n",
       "      values=\"100;100;400\"\n",
       "      dur=\"3s\"\n",
       "      repeatCount=\"indefinite\" />\n",
       "  </rect>\n",
       "        <rect x=\"100\" y=\"307\" width=\"400\" height=\"43\">\n",
       "    <animate\n",
       "      attributeName=\"width\"\n",
       "      values=\"0;400;0\"\n",
       "      dur=\"4s\"\n",
       "      repeatCount=\"indefinite\" />\n",
       "      <animate\n",
       "      attributeName=\"x\"\n",
       "      values=\"100;100;500\"\n",
       "      dur=\"4s\"\n",
       "      repeatCount=\"indefinite\" />\n",
       "  </rect>\n",
       "        <g style=\"fill:transparent;stroke-width:8; stroke-linejoin:round\" rx=\"5\">\n",
       "            <g transform=\"translate(45 50) rotate(-45)\">\n",
       "                <circle r=\"33\" cx=\"0\" cy=\"0\" />\n",
       "                <rect x=\"-8\" y=\"32\" width=\"16\" height=\"30\" />\n",
       "            </g>\n",
       "\n",
       "            <g transform=\"translate(450 152)\">\n",
       "                <polyline points=\"-15,-20 -35,-20 -35,40 25,40 25,20\" />\n",
       "                <rect x=\"-15\" y=\"-40\" width=\"60\" height=\"60\" />\n",
       "            </g>\n",
       "\n",
       "            <g transform=\"translate(50 352)\">\n",
       "                <polygon points=\"-35,-5 0,-40 35,-5\" />\n",
       "                <polygon points=\"-35,10 0,45 35,10\" />\n",
       "            </g>\n",
       "\n",
       "            <g transform=\"translate(75 250)\">\n",
       "                <polyline points=\"-30,30 -60,0 -30,-30\" />\n",
       "                <polyline points=\"0,30 -30,0 0,-30\" />\n",
       "            </g>\n",
       "\n",
       "            <g transform=\"translate(425 250) rotate(180)\">\n",
       "                <polyline points=\"-30,30 -60,0 -30,-30\" />\n",
       "                <polyline points=\"0,30 -30,0 0,-30\" />\n",
       "            </g>\n",
       "        </g>\n",
       "    </g>\n",
       "</svg>\n",
       "</a>\n",
       "    Loading ITables v2.4.0 from the internet...\n",
       "    (need <a href=https://mwouts.github.io/itables/troubleshooting.html>help</a>?)</td>\n",
       "    </tr></tbody></table>\n",
       "<link href=\"https://www.unpkg.com/dt_for_itables@2.3.2/dt_bundle.css\" rel=\"stylesheet\">\n",
       "<script type=\"module\">\n",
       "    import { ITable, jQuery as $ } from 'https://www.unpkg.com/dt_for_itables@2.3.2/dt_bundle.js';\n",
       "\n",
       "    document.querySelectorAll(\"#itables_b040db94_09dd_4f21_b909_d65a819a797f:not(.dataTable)\").forEach(table => {\n",
       "        if (!(table instanceof HTMLTableElement))\n",
       "            return;\n",
       "\n",
       "        let dt_args = {\"layout\": {\"topStart\": \"pageLength\", \"topEnd\": \"search\", \"bottomStart\": \"info\", \"bottomEnd\": \"paging\"}, \"classes\": [\"display\", \"nowrap\"], \"text_in_header_can_be_selected\": true, \"style\": {\"table-layout\": \"auto\", \"width\": \"auto\", \"margin\": \"auto\", \"caption-side\": \"bottom\"}, \"order\": [], \"table_html\": \"<table><thead>\\n    <tr style=\\\"text-align: right;\\\">\\n      <th></th>\\n      <th>num_1s</th>\\n      <th>total_non_null</th>\\n      <th>proportion_1s</th>\\n    </tr>\\n  </thead></table>\", \"data_json\": \"[[\\\"YSR_93_98_ip\\\", 175, 707, 0.247525], [\\\"YSR_93_98_ts\\\", 156, 707, 0.220651], [\\\"YSR_93_98_DSM_att\\\", 147, 707, 0.207921], [\\\"YSR_93_98_ap\\\", 121, 707, 0.171146], [\\\"YSR_93_98_sc\\\", 104, 707, 0.1471], [\\\"YSR_93_98_DSM_dep\\\", 102, 707, 0.144272], [\\\"YSR_93_98_DSM_som\\\", 99, 707, 0.140028], [\\\"YSR_93_98_ep\\\", 98, 707, 0.138614], [\\\"YSR_93_98_wd\\\", 79, 707, 0.11174], [\\\"YSR_93_98_tp\\\", 74, 707, 0.104668], [\\\"YSR_93_98_ad\\\", 70, 707, 0.09901], [\\\"YSR_93_98_sp\\\", 62, 707, 0.087694], [\\\"YSR_93_98_DSM_anx\\\", 51, 707, 0.072136], [\\\"YSR_93_98_rb\\\", 48, 707, 0.067893], [\\\"YSR_93_98_DSM_con\\\", 42, 707, 0.059406], [\\\"YSR_93_98_DSM_opp\\\", 35, 707, 0.049505], [\\\"YSR_93_98_ab\\\", 30, 707, 0.042433]]\"};\n",
       "        new ITable(table, dt_args);\n",
       "    });\n",
       "</script>\n"
      ],
      "text/plain": [
       "<IPython.core.display.HTML object>"
      ]
     },
     "metadata": {},
     "output_type": "display_data"
    }
   ],
   "source": [
    "# Identify all new combined columns (those starting with 'YSR_93_98_')\n",
    "combined_cols = [col for col in df.columns if col.startswith('YSR_93_98_')]\n",
    "\n",
    "# Create a summary DataFrame\n",
    "summary = pd.DataFrame({\n",
    "    'num_1s': df[combined_cols].sum(),\n",
    "    'total_non_null': df[combined_cols].notnull().sum()\n",
    "})\n",
    "\n",
    "# Add a proportion column (optional)\n",
    "summary['proportion_1s'] = summary['num_1s'] / summary['total_non_null']\n",
    "\n",
    "# Sort by number of 1s descending (optional)\n",
    "summary = summary.sort_values(by='num_1s', ascending=False)\n",
    "\n",
    "# Show the summary\n",
    "import ace_tools_open as tools; tools.display_dataframe_to_user(name=\"YSR Combined Column Summary\", dataframe=summary)\n"
   ]
  },
  {
   "cell_type": "code",
   "execution_count": 9,
   "metadata": {},
   "outputs": [
    {
     "data": {
      "text/plain": [
       "Index(['baseline_avgDF0', 'baseline_avgDDF0', 'baseline_avgJitter',\n",
       "       'baseline_avgShimmer', 'baseline_avgapq', 'baseline_avgppq',\n",
       "       'baseline_avglogE', 'baseline_stdDF0', 'baseline_stdDDF0',\n",
       "       'baseline_stdJitter',\n",
       "       ...\n",
       "       'baseline_paa_deltachroma_12_min', 'baseline_paa_deltachroma_12_max',\n",
       "       'baseline_paa_deltachroma_12_skew',\n",
       "       'baseline_paa_deltachroma_12_kurtosis',\n",
       "       'baseline_paa_deltachroma_std_mean', 'baseline_paa_deltachroma_std_std',\n",
       "       'baseline_paa_deltachroma_std_min', 'baseline_paa_deltachroma_std_max',\n",
       "       'baseline_paa_deltachroma_std_skew',\n",
       "       'baseline_paa_deltachroma_std_kurtosis'],\n",
       "      dtype='object', length=1027)"
      ]
     },
     "execution_count": 9,
     "metadata": {},
     "output_type": "execute_result"
    }
   ],
   "source": [
    "df.columns[88:]"
   ]
  },
  {
   "cell_type": "code",
   "execution_count": null,
   "metadata": {},
   "outputs": [],
   "source": [
    "targets_clinical = ['YSR_93_98_ad', 'YSR_93_98_wd',\n",
    "       'YSR_93_98_sc', 'YSR_93_98_sp', 'YSR_93_98_tp', 'YSR_93_98_ap',\n",
    "       'YSR_93_98_rb', 'YSR_93_98_ab', 'YSR_93_98_ip', 'YSR_93_98_ep',\n",
    "       'YSR_93_98_ts']"
   ]
  },
  {
   "cell_type": "code",
   "execution_count": 6,
   "metadata": {},
   "outputs": [],
   "source": [
    "### code to create median based labels\n",
    "\n",
    "targets=['YSR_sad', 'YSR_swd', 'YSR_ssc', 'YSR_ssp', 'YSR_stp', 'YSR_sap',\n",
    "       'YSR_srb', 'YSR_sab', 'YSR_sip', 'YSR_sep', 'YSR_sts']\n",
    "\n",
    "insert_position = 77\n",
    "for target in targets:\n",
    "    median_value = df[target].median()\n",
    "    binary_label = (df[target] > median_value).astype(int)\n",
    "    df.insert(loc=insert_position, column=f\"{target}_binary\", value=binary_label)\n",
    "    insert_position += 1  # Shift for the next insert"
   ]
  },
  {
   "cell_type": "code",
   "execution_count": null,
   "metadata": {},
   "outputs": [],
   "source": [
    "########## up to here!!!!"
   ]
  },
  {
   "cell_type": "code",
   "execution_count": null,
   "metadata": {},
   "outputs": [],
   "source": []
  },
  {
   "cell_type": "code",
   "execution_count": null,
   "metadata": {},
   "outputs": [],
   "source": []
  },
  {
   "cell_type": "code",
   "execution_count": null,
   "metadata": {},
   "outputs": [],
   "source": []
  },
  {
   "cell_type": "code",
   "execution_count": null,
   "metadata": {},
   "outputs": [],
   "source": []
  },
  {
   "cell_type": "code",
   "execution_count": null,
   "metadata": {},
   "outputs": [],
   "source": []
  },
  {
   "cell_type": "code",
   "execution_count": null,
   "metadata": {},
   "outputs": [],
   "source": []
  }
 ],
 "metadata": {
  "kernelspec": {
   "display_name": "disvoice310 (Python 3.10)",
   "language": "python",
   "name": "disvoice310"
  },
  "language_info": {
   "codemirror_mode": {
    "name": "ipython",
    "version": 3
   },
   "file_extension": ".py",
   "mimetype": "text/x-python",
   "name": "python",
   "nbconvert_exporter": "python",
   "pygments_lexer": "ipython3",
   "version": "3.10.16"
  },
  "orig_nbformat": 4,
  "vscode": {
   "interpreter": {
    "hash": "3d57cc343694a6bd9e242bae9a5819b874582d777679a8bf3fed2416f6e50396"
   }
  }
 },
 "nbformat": 4,
 "nbformat_minor": 2
}
